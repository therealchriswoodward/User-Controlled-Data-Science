{
 "cells": [
  {
   "cell_type": "code",
   "execution_count": 3,
   "metadata": {},
   "outputs": [],
   "source": [
    "import yaml\n",
    "import numpy as np\n",
    "import pandas as pd"
   ]
  },
  {
   "cell_type": "code",
   "execution_count": 4,
   "metadata": {},
   "outputs": [],
   "source": [
    "with open(\"C:/Users/there/Desktop/User Controlled Analysis/values.yaml\", 'r') as file:\n",
    "    config = yaml.safe_load(file)"
   ]
  },
  {
   "cell_type": "code",
   "execution_count": 5,
   "metadata": {},
   "outputs": [],
   "source": [
    "data = [12,24,12,23,21,32,43,54,34,23,54,64,71,15,16,36]\n",
    "\n",
    "df = pd.DataFrame({\n",
    "    \"Data\": data\n",
    "})\n"
   ]
  },
  {
   "cell_type": "code",
   "execution_count": 6,
   "metadata": {},
   "outputs": [],
   "source": [
    "method_map = {\n",
    "    'mean': np.mean,\n",
    "    'median': np.median,\n",
    "    'mode': lambda x: x.mode(),\n",
    "    'variance': np.var,\n",
    "    'standard deviation': np.std\n",
    "}"
   ]
  },
  {
   "cell_type": "code",
   "execution_count": 7,
   "metadata": {},
   "outputs": [],
   "source": [
    "if config['aggregate']['method'].lower() in method_map:\n",
    "    value = method_map[config['aggregate']['method'].lower()](df['Data'])\n",
    "else:\n",
    "    raise ValueError(f\"The method you entered is not available.\")"
   ]
  },
  {
   "cell_type": "code",
   "execution_count": 8,
   "metadata": {},
   "outputs": [
    {
     "name": "stdout",
     "output_type": "stream",
     "text": [
      "You said you wanted to find the mean.\n",
      "The mean is:\n",
      "33.375\n"
     ]
    }
   ],
   "source": [
    "print(f\"You said you wanted to find the {config['aggregate']['method']}.\")\n",
    "print(f\"The {config['aggregate']['method']} is:\\n{value}\")"
   ]
  },
  {
   "cell_type": "code",
   "execution_count": 9,
   "metadata": {},
   "outputs": [
    {
     "name": "stdout",
     "output_type": "stream",
     "text": [
      "You set summary to False.\n",
      "Since you set summary to false there is no statistical summary.\n"
     ]
    }
   ],
   "source": [
    "print(f\"You set summary to {config['statistics']['summary']}.\")\n",
    "\n",
    "if config['statistics']['summary'] == True:\n",
    "    print(\"Here's your statistical summary:\")\n",
    "    print(df.describe())\n",
    "else:\n",
    "    print(f\"Since you set summary to false there is no statistical summary.\")"
   ]
  },
  {
   "cell_type": "code",
   "execution_count": 10,
   "metadata": {},
   "outputs": [
    {
     "data": {
      "image/png": "[encoded data removed]",
      "text/plain": [
       "<Figure size 640x480 with 1 Axes>"
      ]
     },
     "metadata": {},
     "output_type": "display_data"
    }
   ],
   "source": [
    "visualization_map = {\n",
    "    'histogram': 'histogram',\n",
    "    'bar': 'bar',\n",
    "    'line': 'line'\n",
    "}\n",
    "\n",
    "try:\n",
    "    if config['visualization']['type'] in visualization_map:\n",
    "        if config['visualization']['type'].lower() == 'histogram':\n",
    "            df['Data'].plot(kind='hist', bins=config['visualization']['bins'],\n",
    "                            color=config['visualization']['color'].lower(), title=config['visualization']['title'])\n",
    "        else:\n",
    "            df['Data'].plot(kind=config['visualization']['type'].lower(), color=config['visualization']['color'].lower(),\n",
    "                            title=config['visualization']['title'])\n",
    "    else:\n",
    "        raise ValueError(f\"Not a valid visual for this program. Visualization types allowed are: 'histogram', 'bar', 'line'.\")\n",
    "except ValueError as e:\n",
    "    print(f\"Error: {e}\")"
   ]
  }
 ],
 "metadata": {
  "kernelspec": {
   "display_name": "Python 3",
   "language": "python",
   "name": "python3"
  },
  "language_info": {
   "codemirror_mode": {
    "name": "ipython",
    "version": 3
   },
   "file_extension": ".py",
   "mimetype": "text/x-python",
   "name": "python",
   "nbconvert_exporter": "python",
   "pygments_lexer": "ipython3",
   "version": "3.11.9"
  }
 },
 "nbformat": 4,
 "nbformat_minor": 2
}
